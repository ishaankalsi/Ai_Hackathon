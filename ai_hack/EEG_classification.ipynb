{
 "cells": [
  {
   "cell_type": "code",
   "execution_count": 1,
   "metadata": {},
   "outputs": [],
   "source": [
    "import pandas as pd"
   ]
  },
  {
   "cell_type": "code",
   "execution_count": 2,
   "metadata": {},
   "outputs": [],
   "source": [
    "import numpy as np"
   ]
  },
  {
   "cell_type": "code",
   "execution_count": 5,
   "metadata": {},
   "outputs": [],
   "source": [
    "df2 = pd.read_csv('/home/ishaan/Codes/Presentations/ai_hack_data/EEg_data/EEG_data.csv')"
   ]
  },
  {
   "cell_type": "code",
   "execution_count": 9,
   "metadata": {},
   "outputs": [
    {
     "data": {
      "text/html": [
       "<div>\n",
       "<style scoped>\n",
       "    .dataframe tbody tr th:only-of-type {\n",
       "        vertical-align: middle;\n",
       "    }\n",
       "\n",
       "    .dataframe tbody tr th {\n",
       "        vertical-align: top;\n",
       "    }\n",
       "\n",
       "    .dataframe thead th {\n",
       "        text-align: right;\n",
       "    }\n",
       "</style>\n",
       "<table border=\"1\" class=\"dataframe\">\n",
       "  <thead>\n",
       "    <tr style=\"text-align: right;\">\n",
       "      <th></th>\n",
       "      <th>SubjectID</th>\n",
       "      <th>VideoID</th>\n",
       "      <th>Attention</th>\n",
       "      <th>Mediation</th>\n",
       "      <th>Raw</th>\n",
       "      <th>Delta</th>\n",
       "      <th>Theta</th>\n",
       "      <th>Alpha1</th>\n",
       "      <th>Alpha2</th>\n",
       "      <th>Beta1</th>\n",
       "      <th>Beta2</th>\n",
       "      <th>Gamma1</th>\n",
       "      <th>Gamma2</th>\n",
       "      <th>predefinedlabel</th>\n",
       "      <th>user-definedlabeln</th>\n",
       "    </tr>\n",
       "  </thead>\n",
       "  <tbody>\n",
       "    <tr>\n",
       "      <th>0</th>\n",
       "      <td>0.0</td>\n",
       "      <td>0.0</td>\n",
       "      <td>56.0</td>\n",
       "      <td>43.0</td>\n",
       "      <td>278.0</td>\n",
       "      <td>301963.0</td>\n",
       "      <td>90612.0</td>\n",
       "      <td>33735.0</td>\n",
       "      <td>23991.0</td>\n",
       "      <td>27946.0</td>\n",
       "      <td>45097.0</td>\n",
       "      <td>33228.0</td>\n",
       "      <td>8293.0</td>\n",
       "      <td>0.0</td>\n",
       "      <td>0.0</td>\n",
       "    </tr>\n",
       "    <tr>\n",
       "      <th>1</th>\n",
       "      <td>0.0</td>\n",
       "      <td>0.0</td>\n",
       "      <td>40.0</td>\n",
       "      <td>35.0</td>\n",
       "      <td>-50.0</td>\n",
       "      <td>73787.0</td>\n",
       "      <td>28083.0</td>\n",
       "      <td>1439.0</td>\n",
       "      <td>2240.0</td>\n",
       "      <td>2746.0</td>\n",
       "      <td>3687.0</td>\n",
       "      <td>5293.0</td>\n",
       "      <td>2740.0</td>\n",
       "      <td>0.0</td>\n",
       "      <td>0.0</td>\n",
       "    </tr>\n",
       "    <tr>\n",
       "      <th>2</th>\n",
       "      <td>0.0</td>\n",
       "      <td>0.0</td>\n",
       "      <td>47.0</td>\n",
       "      <td>48.0</td>\n",
       "      <td>101.0</td>\n",
       "      <td>758353.0</td>\n",
       "      <td>383745.0</td>\n",
       "      <td>201999.0</td>\n",
       "      <td>62107.0</td>\n",
       "      <td>36293.0</td>\n",
       "      <td>130536.0</td>\n",
       "      <td>57243.0</td>\n",
       "      <td>25354.0</td>\n",
       "      <td>0.0</td>\n",
       "      <td>0.0</td>\n",
       "    </tr>\n",
       "    <tr>\n",
       "      <th>3</th>\n",
       "      <td>0.0</td>\n",
       "      <td>0.0</td>\n",
       "      <td>47.0</td>\n",
       "      <td>57.0</td>\n",
       "      <td>-5.0</td>\n",
       "      <td>2012240.0</td>\n",
       "      <td>129350.0</td>\n",
       "      <td>61236.0</td>\n",
       "      <td>17084.0</td>\n",
       "      <td>11488.0</td>\n",
       "      <td>62462.0</td>\n",
       "      <td>49960.0</td>\n",
       "      <td>33932.0</td>\n",
       "      <td>0.0</td>\n",
       "      <td>0.0</td>\n",
       "    </tr>\n",
       "    <tr>\n",
       "      <th>4</th>\n",
       "      <td>0.0</td>\n",
       "      <td>0.0</td>\n",
       "      <td>44.0</td>\n",
       "      <td>53.0</td>\n",
       "      <td>-8.0</td>\n",
       "      <td>1005145.0</td>\n",
       "      <td>354328.0</td>\n",
       "      <td>37102.0</td>\n",
       "      <td>88881.0</td>\n",
       "      <td>45307.0</td>\n",
       "      <td>99603.0</td>\n",
       "      <td>44790.0</td>\n",
       "      <td>29749.0</td>\n",
       "      <td>0.0</td>\n",
       "      <td>0.0</td>\n",
       "    </tr>\n",
       "    <tr>\n",
       "      <th>5</th>\n",
       "      <td>0.0</td>\n",
       "      <td>0.0</td>\n",
       "      <td>44.0</td>\n",
       "      <td>66.0</td>\n",
       "      <td>73.0</td>\n",
       "      <td>1786446.0</td>\n",
       "      <td>176766.0</td>\n",
       "      <td>59352.0</td>\n",
       "      <td>26157.0</td>\n",
       "      <td>15054.0</td>\n",
       "      <td>33669.0</td>\n",
       "      <td>33782.0</td>\n",
       "      <td>31750.0</td>\n",
       "      <td>0.0</td>\n",
       "      <td>0.0</td>\n",
       "    </tr>\n",
       "    <tr>\n",
       "      <th>6</th>\n",
       "      <td>0.0</td>\n",
       "      <td>0.0</td>\n",
       "      <td>43.0</td>\n",
       "      <td>69.0</td>\n",
       "      <td>130.0</td>\n",
       "      <td>635191.0</td>\n",
       "      <td>122446.0</td>\n",
       "      <td>90107.0</td>\n",
       "      <td>65072.0</td>\n",
       "      <td>36230.0</td>\n",
       "      <td>53019.0</td>\n",
       "      <td>62938.0</td>\n",
       "      <td>59307.0</td>\n",
       "      <td>0.0</td>\n",
       "      <td>0.0</td>\n",
       "    </tr>\n",
       "    <tr>\n",
       "      <th>7</th>\n",
       "      <td>0.0</td>\n",
       "      <td>0.0</td>\n",
       "      <td>40.0</td>\n",
       "      <td>61.0</td>\n",
       "      <td>-2.0</td>\n",
       "      <td>161098.0</td>\n",
       "      <td>12119.0</td>\n",
       "      <td>1963.0</td>\n",
       "      <td>809.0</td>\n",
       "      <td>1277.0</td>\n",
       "      <td>3186.0</td>\n",
       "      <td>3266.0</td>\n",
       "      <td>2518.0</td>\n",
       "      <td>0.0</td>\n",
       "      <td>0.0</td>\n",
       "    </tr>\n",
       "    <tr>\n",
       "      <th>8</th>\n",
       "      <td>0.0</td>\n",
       "      <td>0.0</td>\n",
       "      <td>43.0</td>\n",
       "      <td>69.0</td>\n",
       "      <td>17.0</td>\n",
       "      <td>492796.0</td>\n",
       "      <td>120998.0</td>\n",
       "      <td>63697.0</td>\n",
       "      <td>68242.0</td>\n",
       "      <td>10769.0</td>\n",
       "      <td>88403.0</td>\n",
       "      <td>73756.0</td>\n",
       "      <td>22676.0</td>\n",
       "      <td>0.0</td>\n",
       "      <td>0.0</td>\n",
       "    </tr>\n",
       "    <tr>\n",
       "      <th>9</th>\n",
       "      <td>0.0</td>\n",
       "      <td>0.0</td>\n",
       "      <td>47.0</td>\n",
       "      <td>69.0</td>\n",
       "      <td>-59.0</td>\n",
       "      <td>82048.0</td>\n",
       "      <td>116131.0</td>\n",
       "      <td>47317.0</td>\n",
       "      <td>26197.0</td>\n",
       "      <td>41642.0</td>\n",
       "      <td>28866.0</td>\n",
       "      <td>32551.0</td>\n",
       "      <td>41810.0</td>\n",
       "      <td>0.0</td>\n",
       "      <td>0.0</td>\n",
       "    </tr>\n",
       "  </tbody>\n",
       "</table>\n",
       "</div>"
      ],
      "text/plain": [
       "   SubjectID  VideoID  Attention  Mediation    Raw      Delta     Theta  \\\n",
       "0        0.0      0.0       56.0       43.0  278.0   301963.0   90612.0   \n",
       "1        0.0      0.0       40.0       35.0  -50.0    73787.0   28083.0   \n",
       "2        0.0      0.0       47.0       48.0  101.0   758353.0  383745.0   \n",
       "3        0.0      0.0       47.0       57.0   -5.0  2012240.0  129350.0   \n",
       "4        0.0      0.0       44.0       53.0   -8.0  1005145.0  354328.0   \n",
       "5        0.0      0.0       44.0       66.0   73.0  1786446.0  176766.0   \n",
       "6        0.0      0.0       43.0       69.0  130.0   635191.0  122446.0   \n",
       "7        0.0      0.0       40.0       61.0   -2.0   161098.0   12119.0   \n",
       "8        0.0      0.0       43.0       69.0   17.0   492796.0  120998.0   \n",
       "9        0.0      0.0       47.0       69.0  -59.0    82048.0  116131.0   \n",
       "\n",
       "     Alpha1   Alpha2    Beta1     Beta2   Gamma1   Gamma2  predefinedlabel  \\\n",
       "0   33735.0  23991.0  27946.0   45097.0  33228.0   8293.0              0.0   \n",
       "1    1439.0   2240.0   2746.0    3687.0   5293.0   2740.0              0.0   \n",
       "2  201999.0  62107.0  36293.0  130536.0  57243.0  25354.0              0.0   \n",
       "3   61236.0  17084.0  11488.0   62462.0  49960.0  33932.0              0.0   \n",
       "4   37102.0  88881.0  45307.0   99603.0  44790.0  29749.0              0.0   \n",
       "5   59352.0  26157.0  15054.0   33669.0  33782.0  31750.0              0.0   \n",
       "6   90107.0  65072.0  36230.0   53019.0  62938.0  59307.0              0.0   \n",
       "7    1963.0    809.0   1277.0    3186.0   3266.0   2518.0              0.0   \n",
       "8   63697.0  68242.0  10769.0   88403.0  73756.0  22676.0              0.0   \n",
       "9   47317.0  26197.0  41642.0   28866.0  32551.0  41810.0              0.0   \n",
       "\n",
       "   user-definedlabeln  \n",
       "0                 0.0  \n",
       "1                 0.0  \n",
       "2                 0.0  \n",
       "3                 0.0  \n",
       "4                 0.0  \n",
       "5                 0.0  \n",
       "6                 0.0  \n",
       "7                 0.0  \n",
       "8                 0.0  \n",
       "9                 0.0  "
      ]
     },
     "execution_count": 9,
     "metadata": {},
     "output_type": "execute_result"
    }
   ],
   "source": [
    "df2.head(10)"
   ]
  },
  {
   "cell_type": "code",
   "execution_count": 13,
   "metadata": {},
   "outputs": [
    {
     "data": {
      "text/plain": [
       "0.0"
      ]
     },
     "execution_count": 13,
     "metadata": {},
     "output_type": "execute_result"
    }
   ],
   "source": [
    "df2.values[0][14]"
   ]
  },
  {
   "cell_type": "code",
   "execution_count": 14,
   "metadata": {},
   "outputs": [],
   "source": [
    "x = df2[df2.columns[:14]]"
   ]
  },
  {
   "cell_type": "code",
   "execution_count": 16,
   "metadata": {},
   "outputs": [],
   "source": [
    "y = df2[df2.columns[-1]]"
   ]
  },
  {
   "cell_type": "code",
   "execution_count": 17,
   "metadata": {},
   "outputs": [],
   "source": [
    "from sklearn.ensemble import ExtraTreesClassifier\n",
    "import matplotlib.pyplot as plt\n"
   ]
  },
  {
   "cell_type": "markdown",
   "metadata": {},
   "source": [
    "## Feature Importance"
   ]
  },
  {
   "cell_type": "code",
   "execution_count": 20,
   "metadata": {},
   "outputs": [
    {
     "name": "stdout",
     "output_type": "stream",
     "text": [
      "[ 0.23414878  0.27874174  0.0639191   0.04333866  0.0349284   0.0446487\n",
      "  0.03826598  0.03333678  0.03403453  0.0333241   0.04249956  0.04495981\n",
      "  0.05030802  0.02354584]\n"
     ]
    },
    {
     "data": {
      "image/png": "[encoded data removed]",
      "text/plain": [
       "<Figure size 432x288 with 1 Axes>"
      ]
     },
     "metadata": {},
     "output_type": "display_data"
    }
   ],
   "source": [
    "model = ExtraTreesClassifier()\n",
    "model.fit(x,y)\n",
    "print(model.feature_importances_) #use inbuilt class feature_importances of tree based classifiers\n",
    "#plot graph of feature importances for better visualization\n",
    "feat_importances = pd.Series(model.feature_importances_, index=x.columns)\n",
    "feat_importances.nlargest(14).plot(kind='barh')\n",
    "plt.show()"
   ]
  },
  {
   "cell_type": "code",
   "execution_count": 21,
   "metadata": {},
   "outputs": [
    {
     "data": {
      "text/plain": [
       "SubjectID          0.234149\n",
       "VideoID            0.278742\n",
       "Attention          0.063919\n",
       "Mediation          0.043339\n",
       "Raw                0.034928\n",
       "Delta              0.044649\n",
       "Theta              0.038266\n",
       "Alpha1             0.033337\n",
       "Alpha2             0.034035\n",
       "Beta1              0.033324\n",
       "Beta2              0.042500\n",
       "Gamma1             0.044960\n",
       "Gamma2             0.050308\n",
       "predefinedlabel    0.023546\n",
       "dtype: float64"
      ]
     },
     "execution_count": 21,
     "metadata": {},
     "output_type": "execute_result"
    }
   ],
   "source": [
    "feat_importances"
   ]
  },
  {
   "cell_type": "code",
   "execution_count": 23,
   "metadata": {},
   "outputs": [],
   "source": [
    "# scale all values between 0 and 1 for training the neural net\n",
    "\n",
    "for x in df2.columns[:14]:\n",
    "    max = df2[x].max()\n",
    "    df2[x] = df2[x].apply(lambda item : np.divide(item,max))\n",
    "    \n",
    "    "
   ]
  },
  {
   "cell_type": "code",
   "execution_count": 25,
   "metadata": {},
   "outputs": [
    {
     "data": {
      "text/html": [
       "<div>\n",
       "<style scoped>\n",
       "    .dataframe tbody tr th:only-of-type {\n",
       "        vertical-align: middle;\n",
       "    }\n",
       "\n",
       "    .dataframe tbody tr th {\n",
       "        vertical-align: top;\n",
       "    }\n",
       "\n",
       "    .dataframe thead th {\n",
       "        text-align: right;\n",
       "    }\n",
       "</style>\n",
       "<table border=\"1\" class=\"dataframe\">\n",
       "  <thead>\n",
       "    <tr style=\"text-align: right;\">\n",
       "      <th></th>\n",
       "      <th>SubjectID</th>\n",
       "      <th>VideoID</th>\n",
       "      <th>Attention</th>\n",
       "      <th>Mediation</th>\n",
       "      <th>Raw</th>\n",
       "      <th>Delta</th>\n",
       "      <th>Theta</th>\n",
       "      <th>Alpha1</th>\n",
       "      <th>Alpha2</th>\n",
       "      <th>Beta1</th>\n",
       "      <th>Beta2</th>\n",
       "      <th>Gamma1</th>\n",
       "      <th>Gamma2</th>\n",
       "      <th>predefinedlabel</th>\n",
       "      <th>user-definedlabeln</th>\n",
       "    </tr>\n",
       "  </thead>\n",
       "  <tbody>\n",
       "    <tr>\n",
       "      <th>0</th>\n",
       "      <td>0.0</td>\n",
       "      <td>0.0</td>\n",
       "      <td>0.56</td>\n",
       "      <td>0.43</td>\n",
       "      <td>0.135809</td>\n",
       "      <td>0.076164</td>\n",
       "      <td>0.030126</td>\n",
       "      <td>0.024625</td>\n",
       "      <td>0.023592</td>\n",
       "      <td>0.026172</td>\n",
       "      <td>0.027408</td>\n",
       "      <td>0.016846</td>\n",
       "      <td>0.006152</td>\n",
       "      <td>0.0</td>\n",
       "      <td>0.0</td>\n",
       "    </tr>\n",
       "    <tr>\n",
       "      <th>1</th>\n",
       "      <td>0.0</td>\n",
       "      <td>0.0</td>\n",
       "      <td>0.40</td>\n",
       "      <td>0.35</td>\n",
       "      <td>-0.024426</td>\n",
       "      <td>0.018611</td>\n",
       "      <td>0.009337</td>\n",
       "      <td>0.001050</td>\n",
       "      <td>0.002203</td>\n",
       "      <td>0.002572</td>\n",
       "      <td>0.002241</td>\n",
       "      <td>0.002683</td>\n",
       "      <td>0.002032</td>\n",
       "      <td>0.0</td>\n",
       "      <td>0.0</td>\n",
       "    </tr>\n",
       "    <tr>\n",
       "      <th>2</th>\n",
       "      <td>0.0</td>\n",
       "      <td>0.0</td>\n",
       "      <td>0.47</td>\n",
       "      <td>0.48</td>\n",
       "      <td>0.049340</td>\n",
       "      <td>0.191278</td>\n",
       "      <td>0.127583</td>\n",
       "      <td>0.147449</td>\n",
       "      <td>0.061074</td>\n",
       "      <td>0.033989</td>\n",
       "      <td>0.079335</td>\n",
       "      <td>0.029020</td>\n",
       "      <td>0.018807</td>\n",
       "      <td>0.0</td>\n",
       "      <td>0.0</td>\n",
       "    </tr>\n",
       "    <tr>\n",
       "      <th>3</th>\n",
       "      <td>0.0</td>\n",
       "      <td>0.0</td>\n",
       "      <td>0.47</td>\n",
       "      <td>0.57</td>\n",
       "      <td>-0.002443</td>\n",
       "      <td>0.507544</td>\n",
       "      <td>0.043005</td>\n",
       "      <td>0.044699</td>\n",
       "      <td>0.016800</td>\n",
       "      <td>0.010759</td>\n",
       "      <td>0.037962</td>\n",
       "      <td>0.025328</td>\n",
       "      <td>0.025170</td>\n",
       "      <td>0.0</td>\n",
       "      <td>0.0</td>\n",
       "    </tr>\n",
       "    <tr>\n",
       "      <th>4</th>\n",
       "      <td>0.0</td>\n",
       "      <td>0.0</td>\n",
       "      <td>0.44</td>\n",
       "      <td>0.53</td>\n",
       "      <td>-0.003908</td>\n",
       "      <td>0.253526</td>\n",
       "      <td>0.117803</td>\n",
       "      <td>0.027083</td>\n",
       "      <td>0.087403</td>\n",
       "      <td>0.042431</td>\n",
       "      <td>0.060535</td>\n",
       "      <td>0.022707</td>\n",
       "      <td>0.022067</td>\n",
       "      <td>0.0</td>\n",
       "      <td>0.0</td>\n",
       "    </tr>\n",
       "    <tr>\n",
       "      <th>5</th>\n",
       "      <td>0.0</td>\n",
       "      <td>0.0</td>\n",
       "      <td>0.44</td>\n",
       "      <td>0.66</td>\n",
       "      <td>0.035662</td>\n",
       "      <td>0.450592</td>\n",
       "      <td>0.058769</td>\n",
       "      <td>0.043324</td>\n",
       "      <td>0.025722</td>\n",
       "      <td>0.014098</td>\n",
       "      <td>0.020463</td>\n",
       "      <td>0.017126</td>\n",
       "      <td>0.023551</td>\n",
       "      <td>0.0</td>\n",
       "      <td>0.0</td>\n",
       "    </tr>\n",
       "  </tbody>\n",
       "</table>\n",
       "</div>"
      ],
      "text/plain": [
       "   SubjectID  VideoID  Attention  Mediation       Raw     Delta     Theta  \\\n",
       "0        0.0      0.0       0.56       0.43  0.135809  0.076164  0.030126   \n",
       "1        0.0      0.0       0.40       0.35 -0.024426  0.018611  0.009337   \n",
       "2        0.0      0.0       0.47       0.48  0.049340  0.191278  0.127583   \n",
       "3        0.0      0.0       0.47       0.57 -0.002443  0.507544  0.043005   \n",
       "4        0.0      0.0       0.44       0.53 -0.003908  0.253526  0.117803   \n",
       "5        0.0      0.0       0.44       0.66  0.035662  0.450592  0.058769   \n",
       "\n",
       "     Alpha1    Alpha2     Beta1     Beta2    Gamma1    Gamma2  \\\n",
       "0  0.024625  0.023592  0.026172  0.027408  0.016846  0.006152   \n",
       "1  0.001050  0.002203  0.002572  0.002241  0.002683  0.002032   \n",
       "2  0.147449  0.061074  0.033989  0.079335  0.029020  0.018807   \n",
       "3  0.044699  0.016800  0.010759  0.037962  0.025328  0.025170   \n",
       "4  0.027083  0.087403  0.042431  0.060535  0.022707  0.022067   \n",
       "5  0.043324  0.025722  0.014098  0.020463  0.017126  0.023551   \n",
       "\n",
       "   predefinedlabel  user-definedlabeln  \n",
       "0              0.0                 0.0  \n",
       "1              0.0                 0.0  \n",
       "2              0.0                 0.0  \n",
       "3              0.0                 0.0  \n",
       "4              0.0                 0.0  \n",
       "5              0.0                 0.0  "
      ]
     },
     "execution_count": 25,
     "metadata": {},
     "output_type": "execute_result"
    }
   ],
   "source": [
    "df2.head(6)"
   ]
  },
  {
   "cell_type": "code",
   "execution_count": 32,
   "metadata": {},
   "outputs": [
    {
     "data": {
      "text/plain": [
       "12811"
      ]
     },
     "execution_count": 32,
     "metadata": {},
     "output_type": "execute_result"
    }
   ],
   "source": [
    "df2.shape[0]"
   ]
  },
  {
   "cell_type": "code",
   "execution_count": 40,
   "metadata": {},
   "outputs": [
    {
     "name": "stdout",
     "output_type": "stream",
     "text": [
      "[['Alpha1' '0.010693413844614374']\n",
      " ['Alpha2' '0.015002515990411334']\n",
      " ['Attention' '0.02277474248372149']\n",
      " ['Beta1' '0.02318284242808462']\n",
      " ['Beta2' '0.030208547460443443']\n",
      " ['Delta' '0.03203261333832451']\n",
      " ['Gamma1' '0.03263149667448231']\n",
      " ['Gamma2' '0.05587222926222067']\n",
      " ['Mediation' '0.15279615486315043']\n",
      " ['Raw' '0.4131387089220245']\n",
      " ['SubjectID' '0.47182655530403633']\n",
      " ['Theta' '0.4799781437826868']\n",
      " ['VideoID' '0.4878446473950279']\n",
      " ['predefinedlabel' '0.4985992940094646']\n",
      " ['user-definedlabeln' '0.5126063539146046']]\n"
     ]
    }
   ],
   "source": [
    "asc_order = []\n",
    "for x in df2.columns:\n",
    "    mean = df2[x].mean()\n",
    "    #print(mean)\n",
    "    asc_order.append((x,mean))\n",
    "print(np.sort(asc_order,axis=0))"
   ]
  },
  {
   "cell_type": "code",
   "execution_count": 41,
   "metadata": {},
   "outputs": [],
   "source": [
    "from sklearn.model_selection import train_test_split"
   ]
  },
  {
   "cell_type": "code",
   "execution_count": 60,
   "metadata": {},
   "outputs": [],
   "source": [
    "x = df2[df2.columns[:14]]\n",
    "y = df2[df2.columns[-1]]"
   ]
  },
  {
   "cell_type": "code",
   "execution_count": 61,
   "metadata": {},
   "outputs": [
    {
     "name": "stdout",
     "output_type": "stream",
     "text": [
      "(12811, 14) (12811,)\n"
     ]
    }
   ],
   "source": [
    "print(x.shape,y.shape)"
   ]
  },
  {
   "cell_type": "code",
   "execution_count": 64,
   "metadata": {},
   "outputs": [],
   "source": [
    "x_train,x_test,y_train,y_test = train_test_split(x,y,test_size = 0.3)"
   ]
  },
  {
   "cell_type": "code",
   "execution_count": 68,
   "metadata": {},
   "outputs": [
    {
     "data": {
      "text/plain": [
       "14"
      ]
     },
     "execution_count": 68,
     "metadata": {},
     "output_type": "execute_result"
    }
   ],
   "source": [
    "x_train.shape[1]"
   ]
  },
  {
   "cell_type": "code",
   "execution_count": 69,
   "metadata": {},
   "outputs": [
    {
     "name": "stderr",
     "output_type": "stream",
     "text": [
      "Using TensorFlow backend.\n"
     ]
    },
    {
     "name": "stdout",
     "output_type": "stream",
     "text": [
      "_________________________________________________________________\n",
      "Layer (type)                 Output Shape              Param #   \n",
      "=================================================================\n",
      "dense_1 (Dense)              (None, 128)               1920      \n",
      "_________________________________________________________________\n",
      "activation_1 (Activation)    (None, 128)               0         \n",
      "_________________________________________________________________\n",
      "dropout_1 (Dropout)          (None, 128)               0         \n",
      "_________________________________________________________________\n",
      "dense_2 (Dense)              (None, 64)                8256      \n",
      "_________________________________________________________________\n",
      "activation_2 (Activation)    (None, 64)                0         \n",
      "_________________________________________________________________\n",
      "dense_3 (Dense)              (None, 32)                2080      \n",
      "_________________________________________________________________\n",
      "activation_3 (Activation)    (None, 32)                0         \n",
      "_________________________________________________________________\n",
      "dense_4 (Dense)              (None, 1)                 33        \n",
      "=================================================================\n",
      "Total params: 12,289\n",
      "Trainable params: 12,289\n",
      "Non-trainable params: 0\n",
      "_________________________________________________________________\n"
     ]
    }
   ],
   "source": [
    "from keras.models import Sequential\n",
    "from keras.layers import Dense, Activation,Flatten\n",
    "from keras.optimizers import SGD\n",
    "from keras.layers import Dropout\n",
    "\n",
    "model = Sequential()\n",
    "#model.add(Flatten(input_shape = (IMAGE_HEIGHT,IMAGE_WIDTH)))\n",
    "model.add(Dense(128,input_dim = x_train.shape[1]))\n",
    "model.add(Activation('relu'))\n",
    "model.add(Dropout(0.1))\n",
    "model.add(Dense(64))\n",
    "model.add(Activation('relu'))\n",
    "model.add(Dense(32))\n",
    "model.add(Activation('relu'))\n",
    "model.add(Dense(1))\n",
    "model.summary()"
   ]
  },
  {
   "cell_type": "code",
   "execution_count": 119,
   "metadata": {},
   "outputs": [],
   "source": [
    "sgd = SGD(lr=0.01)\n",
    "model.compile(loss='mean_squared_error', optimizer=sgd,metrics=['mse', 'mae', 'mape', 'cosine'])\n"
   ]
  },
  {
   "cell_type": "code",
   "execution_count": 120,
   "metadata": {},
   "outputs": [
    {
     "name": "stdout",
     "output_type": "stream",
     "text": [
      "Epoch 1/60\n",
      "8967/8967 [==============================] - 1s 77us/step - loss: 0.1871 - mean_squared_error: 0.1871 - mean_absolute_error: 0.3910 - mean_absolute_percentage_error: 195815365.9837 - cosine_proximity: -0.5114\n",
      "Epoch 2/60\n",
      "8967/8967 [==============================] - 1s 62us/step - loss: 0.1842 - mean_squared_error: 0.1842 - mean_absolute_error: 0.3865 - mean_absolute_percentage_error: 193982528.8297 - cosine_proximity: -0.5110\n",
      "Epoch 3/60\n",
      "8967/8967 [==============================] - 1s 56us/step - loss: 0.1826 - mean_squared_error: 0.1826 - mean_absolute_error: 0.3847 - mean_absolute_percentage_error: 192361809.4556 - cosine_proximity: -0.5110\n",
      "Epoch 4/60\n",
      "8967/8967 [==============================] - 1s 60us/step - loss: 0.1831 - mean_squared_error: 0.1831 - mean_absolute_error: 0.3842 - mean_absolute_percentage_error: 193060703.5967 - cosine_proximity: -0.5112\n",
      "Epoch 5/60\n",
      "8967/8967 [==============================] - 1s 68us/step - loss: 0.1797 - mean_squared_error: 0.1797 - mean_absolute_error: 0.3802 - mean_absolute_percentage_error: 190576601.7495 - cosine_proximity: -0.5117\n",
      "Epoch 6/60\n",
      "8967/8967 [==============================] - 1s 61us/step - loss: 0.1784 - mean_squared_error: 0.1784 - mean_absolute_error: 0.3775 - mean_absolute_percentage_error: 189720377.9289 - cosine_proximity: -0.5110\n",
      "Epoch 7/60\n",
      "8967/8967 [==============================] - 1s 57us/step - loss: 0.1774 - mean_squared_error: 0.1774 - mean_absolute_error: 0.3764 - mean_absolute_percentage_error: 188932807.9813 - cosine_proximity: -0.5114\n",
      "Epoch 8/60\n",
      "8967/8967 [==============================] - 1s 60us/step - loss: 0.1749 - mean_squared_error: 0.1749 - mean_absolute_error: 0.3722 - mean_absolute_percentage_error: 186604282.5748 - cosine_proximity: -0.5110\n",
      "Epoch 9/60\n",
      "8967/8967 [==============================] - 1s 60us/step - loss: 0.1730 - mean_squared_error: 0.1730 - mean_absolute_error: 0.3687 - mean_absolute_percentage_error: 185007412.0165 - cosine_proximity: -0.5114\n",
      "Epoch 10/60\n",
      "8967/8967 [==============================] - 1s 59us/step - loss: 0.1708 - mean_squared_error: 0.1708 - mean_absolute_error: 0.3660 - mean_absolute_percentage_error: 183085209.8753 - cosine_proximity: -0.5112\n",
      "Epoch 11/60\n",
      "8967/8967 [==============================] - 1s 62us/step - loss: 0.1699 - mean_squared_error: 0.1699 - mean_absolute_error: 0.3636 - mean_absolute_percentage_error: 183428635.4321 - cosine_proximity: -0.5114\n",
      "Epoch 12/60\n",
      "8967/8967 [==============================] - 1s 60us/step - loss: 0.1670 - mean_squared_error: 0.1670 - mean_absolute_error: 0.3586 - mean_absolute_percentage_error: 179479084.4282 - cosine_proximity: -0.5108\n",
      "Epoch 13/60\n",
      "8967/8967 [==============================] - 1s 61us/step - loss: 0.1666 - mean_squared_error: 0.1666 - mean_absolute_error: 0.3586 - mean_absolute_percentage_error: 181038954.1599 - cosine_proximity: -0.5110\n",
      "Epoch 14/60\n",
      "8967/8967 [==============================] - 1s 63us/step - loss: 0.1651 - mean_squared_error: 0.1651 - mean_absolute_error: 0.3554 - mean_absolute_percentage_error: 178652142.0979 - cosine_proximity: -0.5112\n",
      "Epoch 15/60\n",
      "8967/8967 [==============================] - 1s 62us/step - loss: 0.1635 - mean_squared_error: 0.1635 - mean_absolute_error: 0.3535 - mean_absolute_percentage_error: 177955526.1202 - cosine_proximity: -0.5110\n",
      "Epoch 16/60\n",
      "8967/8967 [==============================] - 1s 62us/step - loss: 0.1620 - mean_squared_error: 0.1620 - mean_absolute_error: 0.3512 - mean_absolute_percentage_error: 176550875.1466 - cosine_proximity: -0.5112\n",
      "Epoch 17/60\n",
      "8967/8967 [==============================] - 1s 64us/step - loss: 0.1606 - mean_squared_error: 0.1606 - mean_absolute_error: 0.3485 - mean_absolute_percentage_error: 175255306.0930 - cosine_proximity: -0.5101\n",
      "Epoch 18/60\n",
      "8967/8967 [==============================] - 1s 62us/step - loss: 0.1582 - mean_squared_error: 0.1582 - mean_absolute_error: 0.3451 - mean_absolute_percentage_error: 173855400.1311 - cosine_proximity: -0.5110\n",
      "Epoch 19/60\n",
      "8967/8967 [==============================] - 1s 62us/step - loss: 0.1581 - mean_squared_error: 0.1581 - mean_absolute_error: 0.3440 - mean_absolute_percentage_error: 173261307.7926 - cosine_proximity: -0.5114\n",
      "Epoch 20/60\n",
      "8967/8967 [==============================] - 1s 65us/step - loss: 0.1552 - mean_squared_error: 0.1552 - mean_absolute_error: 0.3393 - mean_absolute_percentage_error: 171049834.8656 - cosine_proximity: -0.5103\n",
      "Epoch 21/60\n",
      "8967/8967 [==============================] - 1s 74us/step - loss: 0.1538 - mean_squared_error: 0.1538 - mean_absolute_error: 0.3377 - mean_absolute_percentage_error: 170420631.7952 - cosine_proximity: -0.5105\n",
      "Epoch 22/60\n",
      "8967/8967 [==============================] - 1s 79us/step - loss: 0.1536 - mean_squared_error: 0.1536 - mean_absolute_error: 0.3372 - mean_absolute_percentage_error: 171076829.3753 - cosine_proximity: -0.5112\n",
      "Epoch 23/60\n",
      "8967/8967 [==============================] - 1s 68us/step - loss: 0.1517 - mean_squared_error: 0.1517 - mean_absolute_error: 0.3337 - mean_absolute_percentage_error: 168881703.8028 - cosine_proximity: -0.5110\n",
      "Epoch 24/60\n",
      "8967/8967 [==============================] - 1s 59us/step - loss: 0.1499 - mean_squared_error: 0.1499 - mean_absolute_error: 0.3317 - mean_absolute_percentage_error: 167189973.7366 - cosine_proximity: -0.5110\n",
      "Epoch 25/60\n",
      "8967/8967 [==============================] - 1s 62us/step - loss: 0.1493 - mean_squared_error: 0.1493 - mean_absolute_error: 0.3303 - mean_absolute_percentage_error: 166665731.9059 - cosine_proximity: -0.5108\n",
      "Epoch 26/60\n",
      "8967/8967 [==============================] - 1s 65us/step - loss: 0.1460 - mean_squared_error: 0.1460 - mean_absolute_error: 0.3254 - mean_absolute_percentage_error: 164864888.2810 - cosine_proximity: -0.5108\n",
      "Epoch 27/60\n",
      "8967/8967 [==============================] - 1s 69us/step - loss: 0.1439 - mean_squared_error: 0.1439 - mean_absolute_error: 0.3219 - mean_absolute_percentage_error: 162228438.8768 - cosine_proximity: -0.5110\n",
      "Epoch 28/60\n",
      "8967/8967 [==============================] - 1s 65us/step - loss: 0.1428 - mean_squared_error: 0.1428 - mean_absolute_error: 0.3200 - mean_absolute_percentage_error: 161429190.9267 - cosine_proximity: -0.5103\n",
      "Epoch 29/60\n",
      "8967/8967 [==============================] - 1s 63us/step - loss: 0.1426 - mean_squared_error: 0.1426 - mean_absolute_error: 0.3200 - mean_absolute_percentage_error: 162519339.1618 - cosine_proximity: -0.5112\n",
      "Epoch 30/60\n",
      "8967/8967 [==============================] - 1s 76us/step - loss: 0.1396 - mean_squared_error: 0.1396 - mean_absolute_error: 0.3158 - mean_absolute_percentage_error: 159871034.8201 - cosine_proximity: -0.5108\n",
      "Epoch 31/60\n",
      "8967/8967 [==============================] - 1s 63us/step - loss: 0.1383 - mean_squared_error: 0.1383 - mean_absolute_error: 0.3134 - mean_absolute_percentage_error: 158512587.0592 - cosine_proximity: -0.5110\n",
      "Epoch 32/60\n",
      "8967/8967 [==============================] - 1s 62us/step - loss: 0.1374 - mean_squared_error: 0.1374 - mean_absolute_error: 0.3124 - mean_absolute_percentage_error: 158297130.7095 - cosine_proximity: -0.5103\n",
      "Epoch 33/60\n",
      "8967/8967 [==============================] - 1s 65us/step - loss: 0.1354 - mean_squared_error: 0.1354 - mean_absolute_error: 0.3094 - mean_absolute_percentage_error: 156072566.1809 - cosine_proximity: -0.5110\n",
      "Epoch 34/60\n",
      "8967/8967 [==============================] - 1s 61us/step - loss: 0.1326 - mean_squared_error: 0.1326 - mean_absolute_error: 0.3046 - mean_absolute_percentage_error: 154565764.8426 - cosine_proximity: -0.5108\n",
      "Epoch 35/60\n",
      "8967/8967 [==============================] - 1s 62us/step - loss: 0.1341 - mean_squared_error: 0.1341 - mean_absolute_error: 0.3058 - mean_absolute_percentage_error: 154822871.8938 - cosine_proximity: -0.5105\n",
      "Epoch 36/60\n",
      "8967/8967 [==============================] - 1s 65us/step - loss: 0.1315 - mean_squared_error: 0.1315 - mean_absolute_error: 0.3015 - mean_absolute_percentage_error: 152714277.8526 - cosine_proximity: -0.5105\n",
      "Epoch 37/60\n",
      "8967/8967 [==============================] - 1s 69us/step - loss: 0.1311 - mean_squared_error: 0.1311 - mean_absolute_error: 0.3010 - mean_absolute_percentage_error: 152067139.2104 - cosine_proximity: -0.5114\n",
      "Epoch 38/60\n"
     ]
    },
    {
     "name": "stdout",
     "output_type": "stream",
     "text": [
      "8967/8967 [==============================] - 1s 64us/step - loss: 0.1289 - mean_squared_error: 0.1289 - mean_absolute_error: 0.2980 - mean_absolute_percentage_error: 151549443.0101 - cosine_proximity: -0.5112\n",
      "Epoch 39/60\n",
      "8967/8967 [==============================] - 0s 54us/step - loss: 0.1270 - mean_squared_error: 0.1270 - mean_absolute_error: 0.2957 - mean_absolute_percentage_error: 149826879.2087 - cosine_proximity: -0.5112\n",
      "Epoch 40/60\n",
      "8967/8967 [==============================] - 1s 57us/step - loss: 0.1253 - mean_squared_error: 0.1253 - mean_absolute_error: 0.2930 - mean_absolute_percentage_error: 148242666.6203 - cosine_proximity: -0.5114\n",
      "Epoch 41/60\n",
      "8967/8967 [==============================] - 1s 71us/step - loss: 0.1245 - mean_squared_error: 0.1245 - mean_absolute_error: 0.2912 - mean_absolute_percentage_error: 147665844.2092 - cosine_proximity: -0.5110\n",
      "Epoch 42/60\n",
      "8967/8967 [==============================] - 1s 65us/step - loss: 0.1204 - mean_squared_error: 0.1204 - mean_absolute_error: 0.2855 - mean_absolute_percentage_error: 144180180.0219 - cosine_proximity: -0.5114\n",
      "Epoch 43/60\n",
      "8967/8967 [==============================] - 1s 80us/step - loss: 0.1223 - mean_squared_error: 0.1223 - mean_absolute_error: 0.2883 - mean_absolute_percentage_error: 145905734.7425 - cosine_proximity: -0.5119\n",
      "Epoch 44/60\n",
      "8967/8967 [==============================] - 1s 60us/step - loss: 0.1202 - mean_squared_error: 0.1202 - mean_absolute_error: 0.2832 - mean_absolute_percentage_error: 143576405.9703 - cosine_proximity: -0.5114\n",
      "Epoch 45/60\n",
      "8967/8967 [==============================] - 1s 68us/step - loss: 0.1185 - mean_squared_error: 0.1185 - mean_absolute_error: 0.2816 - mean_absolute_percentage_error: 142063714.0810 - cosine_proximity: -0.5114\n",
      "Epoch 46/60\n",
      "8967/8967 [==============================] - 1s 75us/step - loss: 0.1164 - mean_squared_error: 0.1164 - mean_absolute_error: 0.2784 - mean_absolute_percentage_error: 141098019.8506 - cosine_proximity: -0.5114\n",
      "Epoch 47/60\n",
      "8967/8967 [==============================] - 1s 79us/step - loss: 0.1144 - mean_squared_error: 0.1144 - mean_absolute_error: 0.2757 - mean_absolute_percentage_error: 139051359.2595 - cosine_proximity: -0.5112\n",
      "Epoch 48/60\n",
      "8967/8967 [==============================] - 1s 75us/step - loss: 0.1125 - mean_squared_error: 0.1125 - mean_absolute_error: 0.2734 - mean_absolute_percentage_error: 138322341.2138 - cosine_proximity: -0.5117\n",
      "Epoch 49/60\n",
      "8967/8967 [==============================] - 1s 61us/step - loss: 0.1132 - mean_squared_error: 0.1132 - mean_absolute_error: 0.2728 - mean_absolute_percentage_error: 138320620.5670 - cosine_proximity: -0.5112\n",
      "Epoch 50/60\n",
      "8967/8967 [==============================] - 1s 62us/step - loss: 0.1112 - mean_squared_error: 0.1112 - mean_absolute_error: 0.2705 - mean_absolute_percentage_error: 137512834.5730 - cosine_proximity: -0.5119\n",
      "Epoch 51/60\n",
      "8967/8967 [==============================] - 1s 62us/step - loss: 0.1098 - mean_squared_error: 0.1098 - mean_absolute_error: 0.2683 - mean_absolute_percentage_error: 135583762.1956 - cosine_proximity: -0.5114\n",
      "Epoch 52/60\n",
      "8967/8967 [==============================] - 1s 80us/step - loss: 0.1080 - mean_squared_error: 0.1080 - mean_absolute_error: 0.2654 - mean_absolute_percentage_error: 134911378.9352 - cosine_proximity: -0.5114\n",
      "Epoch 53/60\n",
      "8967/8967 [==============================] - 1s 74us/step - loss: 0.1086 - mean_squared_error: 0.1086 - mean_absolute_error: 0.2658 - mean_absolute_percentage_error: 135177061.9489 - cosine_proximity: -0.5114\n",
      "Epoch 54/60\n",
      "8967/8967 [==============================] - 1s 62us/step - loss: 0.1047 - mean_squared_error: 0.1047 - mean_absolute_error: 0.2609 - mean_absolute_percentage_error: 132130303.6342 - cosine_proximity: -0.5112\n",
      "Epoch 55/60\n",
      "8967/8967 [==============================] - 1s 78us/step - loss: 0.1046 - mean_squared_error: 0.1046 - mean_absolute_error: 0.2594 - mean_absolute_percentage_error: 131095545.1812 - cosine_proximity: -0.5114\n",
      "Epoch 56/60\n",
      "8967/8967 [==============================] - 1s 70us/step - loss: 0.1037 - mean_squared_error: 0.1037 - mean_absolute_error: 0.2579 - mean_absolute_percentage_error: 129701341.8856 - cosine_proximity: -0.5117\n",
      "Epoch 57/60\n",
      "8967/8967 [==============================] - 1s 59us/step - loss: 0.1038 - mean_squared_error: 0.1038 - mean_absolute_error: 0.2570 - mean_absolute_percentage_error: 130289780.4804 - cosine_proximity: -0.5117\n",
      "Epoch 58/60\n",
      "8967/8967 [==============================] - 1s 61us/step - loss: 0.1024 - mean_squared_error: 0.1024 - mean_absolute_error: 0.2553 - mean_absolute_percentage_error: 129728054.7644 - cosine_proximity: -0.5114\n",
      "Epoch 59/60\n",
      "8967/8967 [==============================] - 1s 60us/step - loss: 0.1014 - mean_squared_error: 0.1014 - mean_absolute_error: 0.2539 - mean_absolute_percentage_error: 128149212.9827 - cosine_proximity: -0.5114\n",
      "Epoch 60/60\n",
      "8967/8967 [==============================] - 1s 60us/step - loss: 0.0985 - mean_squared_error: 0.0985 - mean_absolute_error: 0.2505 - mean_absolute_percentage_error: 125693058.8710 - cosine_proximity: -0.5117\n"
     ]
    },
    {
     "data": {
      "text/plain": [
       "<keras.callbacks.History at 0x7f0fecce8080>"
      ]
     },
     "execution_count": 120,
     "metadata": {},
     "output_type": "execute_result"
    }
   ],
   "source": [
    "model.fit(x_train, y_train, epochs = 60)"
   ]
  },
  {
   "cell_type": "code",
   "execution_count": 121,
   "metadata": {},
   "outputs": [],
   "source": [
    "y_pred = model.predict(x_test)"
   ]
  },
  {
   "cell_type": "code",
   "execution_count": 122,
   "metadata": {},
   "outputs": [],
   "source": [
    "y_pred = y_pred[:,-1]"
   ]
  },
  {
   "cell_type": "code",
   "execution_count": 125,
   "metadata": {},
   "outputs": [
    {
     "name": "stdout",
     "output_type": "stream",
     "text": [
      "[ 0.58714175 -0.07762876  0.08353664 ...,  0.04662201  0.21907085\n",
      " -0.03961687]\n"
     ]
    }
   ],
   "source": [
    "print(y_pred)"
   ]
  },
  {
   "cell_type": "code",
   "execution_count": 127,
   "metadata": {},
   "outputs": [
    {
     "name": "stdout",
     "output_type": "stream",
     "text": [
      "9051     1.0\n",
      "2129     0.0\n",
      "11184    0.0\n",
      "1576     1.0\n",
      "12262    1.0\n",
      "1558     1.0\n",
      "6146     1.0\n",
      "12455    0.0\n",
      "5227     0.0\n",
      "4597     0.0\n",
      "12578    1.0\n",
      "5104     1.0\n",
      "6580     0.0\n",
      "11667    1.0\n",
      "8380     1.0\n",
      "8859     0.0\n",
      "5869     0.0\n",
      "8157     1.0\n",
      "3744     0.0\n",
      "1563     1.0\n",
      "9381     0.0\n",
      "6358     0.0\n",
      "8977     0.0\n",
      "7569     1.0\n",
      "4293     0.0\n",
      "8959     0.0\n",
      "4357     0.0\n",
      "4018     0.0\n",
      "8787     1.0\n",
      "1595     1.0\n",
      "        ... \n",
      "3644     1.0\n",
      "7048     0.0\n",
      "8215     1.0\n",
      "12430    0.0\n",
      "485      0.0\n",
      "3522     1.0\n",
      "4450     1.0\n",
      "11392    1.0\n",
      "6354     0.0\n",
      "1404     1.0\n",
      "7458     0.0\n",
      "11799    0.0\n",
      "11847    0.0\n",
      "11523    1.0\n",
      "10731    0.0\n",
      "5537     1.0\n",
      "12275    1.0\n",
      "6029     1.0\n",
      "4599     0.0\n",
      "12348    0.0\n",
      "3718     0.0\n",
      "4317     0.0\n",
      "2974     0.0\n",
      "2893     0.0\n",
      "12574    1.0\n",
      "2236     0.0\n",
      "8902     0.0\n",
      "8888     0.0\n",
      "930      0.0\n",
      "3461     0.0\n",
      "Name: user-definedlabeln, Length: 3844, dtype: float64\n"
     ]
    }
   ],
   "source": [
    "print(y_test)"
   ]
  },
  {
   "cell_type": "code",
   "execution_count": 115,
   "metadata": {},
   "outputs": [
    {
     "data": {
      "text/plain": [
       "(3844,)"
      ]
     },
     "execution_count": 115,
     "metadata": {},
     "output_type": "execute_result"
    }
   ],
   "source": [
    "y_pred.shape"
   ]
  },
  {
   "cell_type": "code",
   "execution_count": 116,
   "metadata": {},
   "outputs": [
    {
     "data": {
      "text/plain": [
       "(3844,)"
      ]
     },
     "execution_count": 116,
     "metadata": {},
     "output_type": "execute_result"
    }
   ],
   "source": [
    "y_test.shape"
   ]
  },
  {
   "cell_type": "code",
   "execution_count": 117,
   "metadata": {},
   "outputs": [],
   "source": [
    "from keras.losses import mean_squared_error,categorical_hinge"
   ]
  },
  {
   "cell_type": "code",
   "execution_count": 118,
   "metadata": {},
   "outputs": [],
   "source": [
    "error = mean_squared_error(y_test, y_pred)"
   ]
  },
  {
   "cell_type": "code",
   "execution_count": 102,
   "metadata": {},
   "outputs": [
    {
     "data": {
      "text/plain": [
       "<tf.Tensor 'Mean_1:0' shape=() dtype=float64>"
      ]
     },
     "execution_count": 102,
     "metadata": {},
     "output_type": "execute_result"
    }
   ],
   "source": [
    "error"
   ]
  },
  {
   "cell_type": "code",
   "execution_count": null,
   "metadata": {},
   "outputs": [],
   "source": []
  }
 ],
 "metadata": {
  "kernelspec": {
   "display_name": "Python 3",
   "language": "python",
   "name": "python3"
  },
  "language_info": {
   "codemirror_mode": {
    "name": "ipython",
    "version": 3
   },
   "file_extension": ".py",
   "mimetype": "text/x-python",
   "name": "python",
   "nbconvert_exporter": "python",
   "pygments_lexer": "ipython3",
   "version": "3.6.5"
  }
 },
 "nbformat": 4,
 "nbformat_minor": 2
}
